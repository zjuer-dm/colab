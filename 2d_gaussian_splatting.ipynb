{
  "cells": [
    {
      "cell_type": "markdown",
      "metadata": {
        "id": "view-in-github",
        "colab_type": "text"
      },
      "source": [
        "<a href=\"https://colab.research.google.com/github/zjuer-dm/colab/blob/main/2d_gaussian_splatting.ipynb\" target=\"_parent\"><img src=\"https://colab.research.google.com/assets/colab-badge.svg\" alt=\"Open In Colab\"/></a>"
      ]
    },
    {
      "cell_type": "markdown",
      "metadata": {
        "id": "EivsGunVuc6g"
      },
      "source": [
        "Before proceeding, please ensure that your notebook is connected to a GPU runtime."
      ]
    },
    {
      "cell_type": "code",
      "source": [
        "!apt-get update\n",
        "!apt-get install -y build-essential libglm-dev"
      ],
      "metadata": {
        "id": "WF9C6q7s1FDp"
      },
      "execution_count": null,
      "outputs": []
    },
    {
      "cell_type": "code",
      "execution_count": null,
      "metadata": {
        "id": "Iu5nIIrEY1_n"
      },
      "outputs": [],
      "source": [
        "# 1. 克隆主仓库及其所有子模块\n",
        "!echo \">>> 1. Cloning repository...\"\n",
        "!git clone --recursive https://github.com/hbb1/2d-gaussian-splatting.git\n",
        "%cd 2d-gaussian-splatting\n",
        "\n",
        "# 2. 安装第一个缺失的系统依赖 (用于解决第一个错误)\n",
        "!echo \">>> 2. Installing libglm-dev...\"\n",
        "!apt-get update && apt-get install -y libglm-dev\n",
        "\n",
        "# 3. 【关键修复】为 simple-knn 源码打补丁 (用于解决 FLT_MAX 错误)\n",
        "!echo \">>> 3. Patching simple-knn source code...\"\n",
        "!sed -i '1i#include <cfloat>' /content/2d-gaussian-splatting/submodules/simple-knn/simple_knn.cu\n",
        "\n",
        "# 4. 现在，执行完整的 pip 安装\n",
        "!echo \">>> 4. Running pip install...\"\n",
        "!pip install ./submodules/diff-surfel-rasterization\n",
        "!pip install ./submodules/simple-knn\n",
        "\n",
        "\n",
        "!echo \">>> Installation finished.\"\n",
        "!pip install -q plyfile"
      ]
    },
    {
      "cell_type": "code",
      "execution_count": null,
      "metadata": {
        "id": "P-XjteusY6YB"
      },
      "outputs": [],
      "source": [
        "%cd /content/2d-gaussian-splatting/"
      ]
    },
    {
      "cell_type": "code",
      "execution_count": null,
      "metadata": {
        "id": "VC9U4Lt1Y7o1"
      },
      "outputs": [],
      "source": [
        "import os\n",
        "# os.environ['CUDA_HOME'] = '/usr/local/cuda' #ensure that the CUDA path is correct\n",
        "# !pip install ninja\n",
        "# !pip install submodules/simple-knn --verbose\n",
        "# !pip install submodules/diff-surfel-rasterization --verbose"
      ]
    },
    {
      "cell_type": "code",
      "execution_count": null,
      "metadata": {
        "id": "Gp_mHmNfY8OH"
      },
      "outputs": [],
      "source": [
        "from google.colab import drive\n",
        "drive.mount('/content/drive')"
      ]
    },
    {
      "cell_type": "code",
      "source": [
        "# 安装 COLMAP 及其所有依赖项。这是处理数据的关键步骤。\n",
        "# 更新包列表\n",
        "!sudo apt-get update\n",
        "# 安装 COLMAP\n",
        "!sudo apt-get install -y colmap"
      ],
      "metadata": {
        "id": "qYnWSPxjDq-Q"
      },
      "execution_count": null,
      "outputs": []
    },
    {
      "cell_type": "code",
      "source": [
        "# 安装 Xvfb (X Virtual Framebuffer)，一个虚拟屏幕工具\n",
        "!apt-get update\n",
        "!apt-get install -y xvfb"
      ],
      "metadata": {
        "id": "rgkye3SK8qcL"
      },
      "execution_count": null,
      "outputs": []
    },
    {
      "cell_type": "code",
      "source": [
        "import os\n",
        "from google.colab import drive\n",
        "\n",
        "\n",
        "\n",
        "# --- 1. 设置您的项目路径 ---\n",
        "# (请确保这里的路径是正确的)\n",
        "project_path = \"/content/drive/MyDrive/try\"\n",
        "\n",
        "# 定义 COLMAP 处理所需的各个路径\n",
        "db_path = os.path.join(project_path, \"colmap.db\")\n",
        "image_path = os.path.join(project_path, \"images\")\n",
        "sparse_path = os.path.join(project_path, \"sparse\")\n",
        "\n",
        "# 创建稀疏重建的输出目录\n",
        "os.makedirs(sparse_path, exist_ok=True)\n",
        "\n",
        "# --- 2. 执行 COLMAP 命令 (使用 xvfb-run 避免图形界面错误) ---\n",
        "\n",
        "# a. 特征提取\n",
        "print(\">>> Running COLMAP: Feature Extraction...\")\n",
        "!xvfb-run -a colmap feature_extractor \\\n",
        "    --database_path \"{db_path}\" \\\n",
        "    --image_path \"{image_path}\"\n",
        "\n",
        "# b. 特征匹配\n",
        "print(\">>> Running COLMAP: Exhaustive Matching...\")\n",
        "!xvfb-run -a colmap exhaustive_matcher \\\n",
        "    --database_path \"{db_path}\"\n",
        "\n",
        "# c. 场景重建 (Mapping) - 此步骤通常不需要虚拟屏幕\n",
        "print(\">>> Running COLMAP: Mapping...\")\n",
        "!colmap mapper \\\n",
        "    --database_path \"{db_path}\" \\\n",
        "    --image_path \"{image_path}\" \\\n",
        "    --output_path \"{sparse_path}\"\n",
        "\n",
        "print(f\"🎉 COLMAP processing complete! Your dataset is ready in: {project_path}\")\n",
        "print(\"You can now proceed to the training step.\")"
      ],
      "metadata": {
        "id": "M2bNC3NIDruG"
      },
      "execution_count": null,
      "outputs": []
    },
    {
      "cell_type": "code",
      "source": [
        "!python /content/2d-gaussian-splatting/train.py -s \"{colmap_output_path}\""
      ],
      "metadata": {
        "id": "DZv_9TPBD21R"
      },
      "execution_count": null,
      "outputs": []
    },
    {
      "cell_type": "code",
      "execution_count": null,
      "metadata": {
        "id": "mNbChlEEZ2ZP"
      },
      "outputs": [],
      "source": [
        "%cd /content/2d-gaussian-splatting/"
      ]
    },
    {
      "cell_type": "markdown",
      "metadata": {
        "id": "aklgj8llF7wH"
      },
      "source": [
        "For Colab to access your COLMAP processed data, please copy the COLMAP output to your Google Drive and enter the full COLMAP source path (e.g. /content/drive/MyDrive/COLMAP_out)"
      ]
    },
    {
      "cell_type": "code",
      "execution_count": null,
      "metadata": {
        "id": "UhHKVQ-Smo43"
      },
      "outputs": [],
      "source": [
        "COLMAP_PATH = str(input('Please enter COLMAP output path:'))"
      ]
    },
    {
      "cell_type": "code",
      "execution_count": null,
      "metadata": {
        "id": "3GxTJBDKZ9xW"
      },
      "outputs": [],
      "source": [
        "!python train.py -s $COLMAP_PATH"
      ]
    },
    {
      "cell_type": "markdown",
      "metadata": {
        "id": "D-RP0ykwuc6y"
      },
      "source": [
        "Training is complete, to use render.py, please enter the desired model_path located in your Drive: /content/drive/MyDrive/2d_gaussian_splatting/output/{10 digit UUID}: (e.g: /content/drive/MyDrive/2d_gaussian_splatting/output/8d812792-1)"
      ]
    },
    {
      "cell_type": "code",
      "execution_count": null,
      "metadata": {
        "id": "ZmbxOxstuc6y"
      },
      "outputs": [],
      "source": [
        "MODEL_PATH = str(input('Please enter the model path:'))"
      ]
    },
    {
      "cell_type": "code",
      "execution_count": null,
      "metadata": {
        "id": "Sn9uflTH5ut6"
      },
      "outputs": [],
      "source": [
        "!pip3 install open3d==0.18.0 mediapy==1.1.2 lpips==0.1.4 scikit-image==0.21.0 tqdm==4.66.2 trimesh==4.3.2 opencv-python"
      ]
    },
    {
      "cell_type": "code",
      "execution_count": null,
      "metadata": {
        "id": "T2inVQ3K49lS"
      },
      "outputs": [],
      "source": [
        "!python render.py -m $MODEL_PATH -s $COLMAP_PATH"
      ]
    },
    {
      "cell_type": "markdown",
      "metadata": {
        "id": "IIJSOpZ9uc60"
      },
      "source": [
        "Training and rendering is complete, please navigate to your drive and see the model outputs under the directory \"2d_gaussian_splatting/\"."
      ]
    }
  ],
  "metadata": {
    "colab": {
      "provenance": [],
      "gpuType": "T4",
      "include_colab_link": true
    },
    "kernelspec": {
      "display_name": "Python 3",
      "name": "python3"
    },
    "language_info": {
      "name": "python"
    },
    "accelerator": "GPU"
  },
  "nbformat": 4,
  "nbformat_minor": 0
}