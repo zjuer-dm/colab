{
  "cells": [
    {
      "cell_type": "markdown",
      "metadata": {
        "id": "view-in-github",
        "colab_type": "text"
      },
      "source": [
        "<a href=\"https://colab.research.google.com/github/zjuer-dm/colab/blob/main/2d_gaussian_splatting.ipynb\" target=\"_parent\"><img src=\"https://colab.research.google.com/assets/colab-badge.svg\" alt=\"Open In Colab\"/></a>"
      ]
    },
    {
      "cell_type": "markdown",
      "metadata": {
        "id": "EivsGunVuc6g"
      },
      "source": [
        "Before proceeding, please ensure that your notebook is connected to a GPU runtime."
      ]
    },
    {
      "cell_type": "code",
      "source": [
        "!apt-get update\n",
        "!apt-get install -y build-essential libglm-dev"
      ],
      "metadata": {
        "id": "WF9C6q7s1FDp",
        "outputId": "6b8b439c-1f36-4d8e-b5fc-e4b8f8b9519a",
        "colab": {
          "base_uri": "https://localhost:8080/"
        }
      },
      "execution_count": 9,
      "outputs": [
        {
          "output_type": "stream",
          "name": "stdout",
          "text": [
            "\r0% [Working]\r            \rHit:1 https://cloud.r-project.org/bin/linux/ubuntu jammy-cran40/ InRelease\n",
            "Hit:2 https://developer.download.nvidia.com/compute/cuda/repos/ubuntu2204/x86_64  InRelease\n",
            "Hit:3 http://security.ubuntu.com/ubuntu jammy-security InRelease\n",
            "Hit:4 http://archive.ubuntu.com/ubuntu jammy InRelease\n",
            "Hit:5 https://r2u.stat.illinois.edu/ubuntu jammy InRelease\n",
            "Hit:6 http://archive.ubuntu.com/ubuntu jammy-updates InRelease\n",
            "Hit:7 http://archive.ubuntu.com/ubuntu jammy-backports InRelease\n",
            "Hit:8 https://ppa.launchpadcontent.net/deadsnakes/ppa/ubuntu jammy InRelease\n",
            "Hit:9 https://ppa.launchpadcontent.net/graphics-drivers/ppa/ubuntu jammy InRelease\n",
            "Hit:10 https://ppa.launchpadcontent.net/ubuntugis/ppa/ubuntu jammy InRelease\n",
            "Reading package lists... Done\n",
            "W: Skipping acquire of configured file 'main/source/Sources' as repository 'https://r2u.stat.illinois.edu/ubuntu jammy InRelease' does not seem to provide it (sources.list entry misspelt?)\n",
            "Reading package lists... Done\n",
            "Building dependency tree... Done\n",
            "Reading state information... Done\n",
            "build-essential is already the newest version (12.9ubuntu3).\n",
            "libglm-dev is already the newest version (0.9.9.8+ds-2).\n",
            "0 upgraded, 0 newly installed, 0 to remove and 36 not upgraded.\n"
          ]
        }
      ]
    },
    {
      "cell_type": "code",
      "execution_count": 10,
      "metadata": {
        "colab": {
          "base_uri": "https://localhost:8080/"
        },
        "id": "Iu5nIIrEY1_n",
        "outputId": "80088a6c-fbde-48af-f4c1-ea433088f72b"
      },
      "outputs": [
        {
          "output_type": "stream",
          "name": "stdout",
          "text": [
            ">>> 1. Cloning repository...\n",
            "Cloning into '2d-gaussian-splatting'...\n",
            "remote: Enumerating objects: 274, done.\u001b[K\n",
            "remote: Counting objects: 100% (198/198), done.\u001b[K\n",
            "remote: Compressing objects: 100% (113/113), done.\u001b[K\n",
            "remote: Total 274 (delta 130), reused 85 (delta 85), pack-reused 76 (from 2)\u001b[K\n",
            "Receiving objects: 100% (274/274), 9.40 MiB | 12.85 MiB/s, done.\n",
            "Resolving deltas: 100% (136/136), done.\n",
            "Submodule 'submodules/diff-surfel-rasterization' (https://github.com/hbb1/diff-surfel-rasterization.git) registered for path 'submodules/diff-surfel-rasterization'\n",
            "Submodule 'submodules/simple-knn' (https://gitlab.inria.fr/bkerbl/simple-knn.git) registered for path 'submodules/simple-knn'\n",
            "Cloning into '/content/2d-gaussian-splatting/2d-gaussian-splatting/submodules/diff-surfel-rasterization'...\n",
            "remote: Enumerating objects: 697, done.        \n",
            "remote: Counting objects: 100% (287/287), done.        \n",
            "remote: Compressing objects: 100% (33/33), done.        \n",
            "remote: Total 697 (delta 272), reused 254 (delta 254), pack-reused 410 (from 1)        \n",
            "Receiving objects: 100% (697/697), 10.99 MiB | 15.63 MiB/s, done.\n",
            "Resolving deltas: 100% (499/499), done.\n",
            "Cloning into '/content/2d-gaussian-splatting/2d-gaussian-splatting/submodules/simple-knn'...\n",
            "remote: Enumerating objects: 37, done.        \n",
            "remote: Counting objects: 100% (37/37), done.        \n",
            "remote: Compressing objects: 100% (34/34), done.        \n",
            "remote: Total 37 (delta 18), reused 0 (delta 0), pack-reused 0 (from 0)        \n",
            "Receiving objects: 100% (37/37), 9.46 KiB | 9.46 MiB/s, done.\n",
            "Resolving deltas: 100% (18/18), done.\n",
            "Submodule path 'submodules/diff-surfel-rasterization': checked out 'e0ed0207b3e0669960cfad70852200a4a5847f61'\n",
            "Submodule 'third_party/glm' (https://github.com/g-truc/glm.git) registered for path 'submodules/diff-surfel-rasterization/third_party/glm'\n",
            "Cloning into '/content/2d-gaussian-splatting/2d-gaussian-splatting/submodules/diff-surfel-rasterization/third_party/glm'...\n",
            "remote: Enumerating objects: 59935, done.        \n",
            "remote: Counting objects: 100% (217/217), done.        \n",
            "remote: Compressing objects: 100% (88/88), done.        \n",
            "remote: Total 59935 (delta 170), reused 129 (delta 129), pack-reused 59718 (from 2)        \n",
            "Receiving objects: 100% (59935/59935), 71.37 MiB | 26.73 MiB/s, done.\n",
            "Resolving deltas: 100% (45405/45405), done.\n",
            "Submodule path 'submodules/diff-surfel-rasterization/third_party/glm': checked out '5c46b9c07008ae65cb81ab79cd677ecc1934b903'\n",
            "Submodule path 'submodules/simple-knn': checked out 'f155ec04131cb579f53443a06879d37115f4612f'\n",
            "/content/2d-gaussian-splatting/2d-gaussian-splatting\n",
            ">>> 2. Installing libglm-dev...\n",
            "Hit:1 https://cloud.r-project.org/bin/linux/ubuntu jammy-cran40/ InRelease\n",
            "Hit:2 https://developer.download.nvidia.com/compute/cuda/repos/ubuntu2204/x86_64  InRelease\n",
            "Hit:3 http://archive.ubuntu.com/ubuntu jammy InRelease\n",
            "Hit:4 http://archive.ubuntu.com/ubuntu jammy-updates InRelease\n",
            "Hit:5 http://archive.ubuntu.com/ubuntu jammy-backports InRelease\n",
            "Hit:6 https://r2u.stat.illinois.edu/ubuntu jammy InRelease\n",
            "Get:7 http://security.ubuntu.com/ubuntu jammy-security InRelease [129 kB]\n",
            "Hit:8 https://ppa.launchpadcontent.net/deadsnakes/ppa/ubuntu jammy InRelease\n",
            "Hit:9 https://ppa.launchpadcontent.net/graphics-drivers/ppa/ubuntu jammy InRelease\n",
            "Hit:10 https://ppa.launchpadcontent.net/ubuntugis/ppa/ubuntu jammy InRelease\n",
            "Fetched 129 kB in 1s (116 kB/s)\n",
            "Reading package lists... Done\n",
            "W: Skipping acquire of configured file 'main/source/Sources' as repository 'https://r2u.stat.illinois.edu/ubuntu jammy InRelease' does not seem to provide it (sources.list entry misspelt?)\n",
            "Reading package lists... Done\n",
            "Building dependency tree... Done\n",
            "Reading state information... Done\n",
            "libglm-dev is already the newest version (0.9.9.8+ds-2).\n",
            "0 upgraded, 0 newly installed, 0 to remove and 36 not upgraded.\n",
            ">>> 3. Patching simple-knn source code...\n",
            ">>> 4. Running pip install...\n",
            "Processing ./submodules/diff-surfel-rasterization\n",
            "  Preparing metadata (setup.py) ... \u001b[?25l\u001b[?25hdone\n",
            "Building wheels for collected packages: diff_surfel_rasterization\n",
            "  Building wheel for diff_surfel_rasterization (setup.py) ... \u001b[?25l\u001b[?25hdone\n",
            "  Created wheel for diff_surfel_rasterization: filename=diff_surfel_rasterization-0.0.1-cp311-cp311-linux_x86_64.whl size=3345792 sha256=89bcea99c355181f195a0fb494dce623bc1692b46d1d235d2677a29354ec9bee\n",
            "  Stored in directory: /root/.cache/pip/wheels/8c/23/24/8dd986ed2a126a672dd1b9b52cb2352a3b6efc5d4f5d4bce58\n",
            "Successfully built diff_surfel_rasterization\n",
            "Installing collected packages: diff_surfel_rasterization\n",
            "  Attempting uninstall: diff_surfel_rasterization\n",
            "    Found existing installation: diff_surfel_rasterization 0.0.1\n",
            "    Uninstalling diff_surfel_rasterization-0.0.1:\n",
            "      Successfully uninstalled diff_surfel_rasterization-0.0.1\n",
            "Successfully installed diff_surfel_rasterization-0.0.1\n",
            "Processing ./submodules/simple-knn\n",
            "  Preparing metadata (setup.py) ... \u001b[?25l\u001b[?25hdone\n",
            "Building wheels for collected packages: simple_knn\n",
            "  \u001b[1;31merror\u001b[0m: \u001b[1msubprocess-exited-with-error\u001b[0m\n",
            "  \n",
            "  \u001b[31m×\u001b[0m \u001b[32mpython setup.py bdist_wheel\u001b[0m did not run successfully.\n",
            "  \u001b[31m│\u001b[0m exit code: \u001b[1;36m1\u001b[0m\n",
            "  \u001b[31m╰─>\u001b[0m See above for output.\n",
            "  \n",
            "  \u001b[1;35mnote\u001b[0m: This error originates from a subprocess, and is likely not a problem with pip.\n",
            "  Building wheel for simple_knn (setup.py) ... \u001b[?25lerror\n",
            "\u001b[31m  ERROR: Failed building wheel for simple_knn\u001b[0m\u001b[31m\n",
            "\u001b[0m\u001b[?25h  Running setup.py clean for simple_knn\n",
            "Failed to build simple_knn\n",
            "\u001b[31mERROR: ERROR: Failed to build installable wheels for some pyproject.toml based projects (simple_knn)\u001b[0m\u001b[31m\n",
            "\u001b[0m\u001b[31mERROR: Could not open requirements file: [Errno 2] No such file or directory: 'requirements.txt'\u001b[0m\u001b[31m\n",
            "\u001b[0m>>> Installation finished.\n"
          ]
        }
      ],
      "source": [
        "# 1. 克隆主仓库及其所有子模块\n",
        "!echo \">>> 1. Cloning repository...\"\n",
        "!git clone --recursive https://github.com/hbb1/2d-gaussian-splatting.git\n",
        "%cd 2d-gaussian-splatting\n",
        "\n",
        "# 2. 安装第一个缺失的系统依赖 (用于解决第一个错误)\n",
        "!echo \">>> 2. Installing libglm-dev...\"\n",
        "!apt-get update && apt-get install -y libglm-dev\n",
        "\n",
        "# 3. 【关键修复】为 simple-knn 源码打补丁 (用于解决 FLT_MAX 错误)\n",
        "!echo \">>> 3. Patching simple-knn source code...\"\n",
        "!sed -i '1i#include <cfloat>' /content/2d-gaussian-splatting/submodules/simple-knn/simple_knn.cu\n",
        "\n",
        "# 4. 现在，执行完整的 pip 安装\n",
        "!echo \">>> 4. Running pip install...\"\n",
        "!pip install ./submodules/diff-surfel-rasterization\n",
        "!pip install ./submodules/simple-knn\n",
        "!pip install -r requirements.txt\n",
        "\n",
        "!echo \">>> Installation finished.\"\n",
        "!pip install -q plyfile"
      ]
    },
    {
      "cell_type": "code",
      "execution_count": 11,
      "metadata": {
        "colab": {
          "base_uri": "https://localhost:8080/"
        },
        "id": "P-XjteusY6YB",
        "outputId": "e44cce05-c6db-4384-a4ae-c1747aee58f1"
      },
      "outputs": [
        {
          "output_type": "stream",
          "name": "stdout",
          "text": [
            "/content/2d-gaussian-splatting\n"
          ]
        }
      ],
      "source": [
        "%cd /content/2d-gaussian-splatting/"
      ]
    },
    {
      "cell_type": "code",
      "execution_count": 12,
      "metadata": {
        "id": "VC9U4Lt1Y7o1"
      },
      "outputs": [],
      "source": [
        "import os\n",
        "# os.environ['CUDA_HOME'] = '/usr/local/cuda' #ensure that the CUDA path is correct\n",
        "# !pip install ninja\n",
        "# !pip install submodules/simple-knn --verbose\n",
        "# !pip install submodules/diff-surfel-rasterization --verbose"
      ]
    },
    {
      "cell_type": "code",
      "execution_count": 5,
      "metadata": {
        "colab": {
          "base_uri": "https://localhost:8080/"
        },
        "id": "Gp_mHmNfY8OH",
        "outputId": "13455869-8701-4382-a985-82a9b200c5e8"
      },
      "outputs": [
        {
          "output_type": "stream",
          "name": "stdout",
          "text": [
            "Mounted at /content/drive\n"
          ]
        }
      ],
      "source": [
        "from google.colab import drive\n",
        "drive.mount('/content/drive')"
      ]
    },
    {
      "cell_type": "code",
      "source": [
        "# 安装 COLMAP 及其所有依赖项。这是处理数据的关键步骤。\n",
        "# 更新包列表\n",
        "!sudo apt-get update\n",
        "# 安装 COLMAP\n",
        "!sudo apt-get install -y colmap"
      ],
      "metadata": {
        "id": "qYnWSPxjDq-Q"
      },
      "execution_count": null,
      "outputs": []
    },
    {
      "cell_type": "code",
      "source": [
        "# 导入 os 模块以处理文件路径\n",
        "import os\n",
        "\n",
        "# 定义数据集名称和基础路径\n",
        "dataset_name = \"flowers\"\n",
        "base_path = \"/content/drive/MyDrive/360_extra_scenes\"\n",
        "\n",
        "# 定义源图像路径。我们使用最高分辨率的 'images' 文件夹\n",
        "source_image_path = os.path.join(base_path, dataset_name, \"images\")\n",
        "\n",
        "# COLMAP 的输出将直接存放在数据集的根目录下\n",
        "colmap_output_path = os.path.join(base_path, dataset_name)\n",
        "\n",
        "# 创建一个数据库文件路径\n",
        "database_path = os.path.join(colmap_output_path, \"database.db\")\n",
        "\n",
        "# 打印路径以供用户确认\n",
        "print(f\"源图像路径: {source_image_path}\")\n",
        "print(f\"COLMAP 数据库将创建于: {database_path}\")\n",
        "print(f\"COLMAP 稀疏模型将输出至: {os.path.join(colmap_output_path, 'sparse')}\")\n",
        "\n",
        "# 检查源图像路径是否存在\n",
        "if not os.path.exists(source_image_path):\n",
        "    print(f\"错误：找不到源图像文件夹，请检查路径: {source_image_path}\")\n",
        "else:\n",
        "    print(\"源图像文件夹已找到。\")"
      ],
      "metadata": {
        "id": "M2bNC3NIDruG"
      },
      "execution_count": null,
      "outputs": []
    },
    {
      "cell_type": "code",
      "source": [
        "# 运行 COLMAP 特征提取器\n",
        "!colmap feature_extractor \\\n",
        "    --database_path \"{database_path}\" \\\n",
        "    --image_path \"{source_image_path}\" \\\n",
        "    --ImageReader.single_camera 1 \\\n",
        "    --ImageReader.camera_model PINHOLE \\\n",
        "    --SiftExtraction.use_gpu 1"
      ],
      "metadata": {
        "id": "u-6-7huxDu7R"
      },
      "execution_count": null,
      "outputs": []
    },
    {
      "cell_type": "code",
      "source": [
        "# 运行 COLMAP 穷举特征匹配器\n",
        "!colmap exhaustive_matcher \\\n",
        "    --database_path \"{database_path}\" \\\n",
        "    --SiftMatching.use_gpu 1"
      ],
      "metadata": {
        "id": "na0lqNMHDxax"
      },
      "execution_count": null,
      "outputs": []
    },
    {
      "cell_type": "code",
      "source": [
        "# 创建用于存放稀疏重建结果的目录\n",
        "!mkdir -p \"{os.path.join(colmap_output_path, 'sparse')}\"\n",
        "\n",
        "# 运行 COLMAP 建图器（稀疏重建）\n",
        "!colmap mapper \\\n",
        "    --database_path \"{database_path}\" \\\n",
        "    --image_path \"{source_image_path}\" \\\n",
        "    --output_path \"{os.path.join(colmap_output_path, 'sparse')}\""
      ],
      "metadata": {
        "id": "5rks7AyHDzuR"
      },
      "execution_count": null,
      "outputs": []
    },
    {
      "cell_type": "code",
      "source": [
        "# 检查 'sparse/0' 目录的内容\n",
        "print(\"\\n验证 COLMAP 输出:\")\n",
        "!ls -l \"{os.path.join(colmap_output_path, 'sparse/0')}\""
      ],
      "metadata": {
        "id": "6Vf0BoNTD1Nf"
      },
      "execution_count": null,
      "outputs": []
    },
    {
      "cell_type": "code",
      "source": [
        "!python /content/2d-gaussian-splatting/train.py -s \"{colmap_output_path}\""
      ],
      "metadata": {
        "id": "DZv_9TPBD21R"
      },
      "execution_count": null,
      "outputs": []
    },
    {
      "cell_type": "code",
      "source": [],
      "metadata": {
        "id": "ilH57ncMD60z"
      },
      "execution_count": null,
      "outputs": []
    },
    {
      "cell_type": "code",
      "execution_count": 6,
      "metadata": {
        "colab": {
          "base_uri": "https://localhost:8080/"
        },
        "id": "mNbChlEEZ2ZP",
        "outputId": "eac7efb1-0ae7-429b-8bd7-0c8eccafdf2f"
      },
      "outputs": [
        {
          "output_type": "stream",
          "name": "stdout",
          "text": [
            "/content/2d-gaussian-splatting\n"
          ]
        }
      ],
      "source": [
        "%cd /content/2d-gaussian-splatting/"
      ]
    },
    {
      "cell_type": "markdown",
      "metadata": {
        "id": "aklgj8llF7wH"
      },
      "source": [
        "For Colab to access your COLMAP processed data, please copy the COLMAP output to your Google Drive and enter the full COLMAP source path (e.g. /content/drive/MyDrive/COLMAP_out)"
      ]
    },
    {
      "cell_type": "code",
      "execution_count": 7,
      "metadata": {
        "id": "UhHKVQ-Smo43",
        "colab": {
          "base_uri": "https://localhost:8080/"
        },
        "outputId": "bf10e1fc-9229-420b-e666-8b5879a5becc"
      },
      "outputs": [
        {
          "name": "stdout",
          "output_type": "stream",
          "text": [
            "Please enter COLMAP output path:/content/drive/MyDrive/360_extra_scenes/flowers\n"
          ]
        }
      ],
      "source": [
        "COLMAP_PATH = str(input('Please enter COLMAP output path:'))"
      ]
    },
    {
      "cell_type": "code",
      "execution_count": 8,
      "metadata": {
        "id": "3GxTJBDKZ9xW",
        "colab": {
          "base_uri": "https://localhost:8080/"
        },
        "outputId": "07bd49fa-2ce6-434d-f7be-c84f20a8862c"
      },
      "outputs": [
        {
          "output_type": "stream",
          "name": "stdout",
          "text": [
            "2025-06-24 12:36:49.980320: E external/local_xla/xla/stream_executor/cuda/cuda_fft.cc:477] Unable to register cuFFT factory: Attempting to register factory for plugin cuFFT when one has already been registered\n",
            "WARNING: All log messages before absl::InitializeLog() is called are written to STDERR\n",
            "E0000 00:00:1750768610.000036    4786 cuda_dnn.cc:8310] Unable to register cuDNN factory: Attempting to register factory for plugin cuDNN when one has already been registered\n",
            "E0000 00:00:1750768610.006049    4786 cuda_blas.cc:1418] Unable to register cuBLAS factory: Attempting to register factory for plugin cuBLAS when one has already been registered\n",
            "2025-06-24 12:36:50.028199: I tensorflow/core/platform/cpu_feature_guard.cc:210] This TensorFlow binary is optimized to use available CPU instructions in performance-critical operations.\n",
            "To enable the following instructions: AVX2 AVX512F FMA, in other operations, rebuild TensorFlow with the appropriate compiler flags.\n",
            "Optimizing \n",
            "Output folder: ./output/8f6e8467-4 [24/06 12:36:53]\n",
            "Traceback (most recent call last):\n",
            "  File \"/content/2d-gaussian-splatting/scene/dataset_readers.py\", line 136, in readColmapSceneInfo\n",
            "    cam_extrinsics = read_extrinsics_binary(cameras_extrinsic_file)\n",
            "                     ^^^^^^^^^^^^^^^^^^^^^^^^^^^^^^^^^^^^^^^^^^^^^^\n",
            "  File \"/content/2d-gaussian-splatting/scene/colmap_loader.py\", line 187, in read_extrinsics_binary\n",
            "    with open(path_to_model_file, \"rb\") as fid:\n",
            "         ^^^^^^^^^^^^^^^^^^^^^^^^^^^^^^\n",
            "FileNotFoundError: [Errno 2] No such file or directory: '/content/drive/MyDrive/360_extra_scenes/flowers/sparse/0/images.bin'\n",
            "\n",
            "During handling of the above exception, another exception occurred:\n",
            "\n",
            "Traceback (most recent call last):\n",
            "  File \"/content/2d-gaussian-splatting/train.py\", line 277, in <module>\n",
            "    training(lp.extract(args), op.extract(args), pp.extract(args), args.test_iterations, args.save_iterations, args.checkpoint_iterations, args.start_checkpoint)\n",
            "  File \"/content/2d-gaussian-splatting/train.py\", line 35, in training\n",
            "    scene = Scene(dataset, gaussians)\n",
            "            ^^^^^^^^^^^^^^^^^^^^^^^^^\n",
            "  File \"/content/2d-gaussian-splatting/scene/__init__.py\", line 44, in __init__\n",
            "    scene_info = sceneLoadTypeCallbacks[\"Colmap\"](args.source_path, args.images, args.eval)\n",
            "                 ^^^^^^^^^^^^^^^^^^^^^^^^^^^^^^^^^^^^^^^^^^^^^^^^^^^^^^^^^^^^^^^^^^^^^^^^^^\n",
            "  File \"/content/2d-gaussian-splatting/scene/dataset_readers.py\", line 141, in readColmapSceneInfo\n",
            "    cam_extrinsics = read_extrinsics_text(cameras_extrinsic_file)\n",
            "                     ^^^^^^^^^^^^^^^^^^^^^^^^^^^^^^^^^^^^^^^^^^^^\n",
            "  File \"/content/2d-gaussian-splatting/scene/colmap_loader.py\", line 249, in read_extrinsics_text\n",
            "    with open(path, \"r\") as fid:\n",
            "         ^^^^^^^^^^^^^^^\n",
            "FileNotFoundError: [Errno 2] No such file or directory: '/content/drive/MyDrive/360_extra_scenes/flowers/sparse/0/images.txt'\n"
          ]
        }
      ],
      "source": [
        "!python train.py -s $COLMAP_PATH"
      ]
    },
    {
      "cell_type": "markdown",
      "metadata": {
        "id": "D-RP0ykwuc6y"
      },
      "source": [
        "Training is complete, to use render.py, please enter the desired model_path located in your Drive: /content/drive/MyDrive/2d_gaussian_splatting/output/{10 digit UUID}: (e.g: /content/drive/MyDrive/2d_gaussian_splatting/output/8d812792-1)"
      ]
    },
    {
      "cell_type": "code",
      "execution_count": null,
      "metadata": {
        "id": "ZmbxOxstuc6y"
      },
      "outputs": [],
      "source": [
        "MODEL_PATH = str(input('Please enter the model path:'))"
      ]
    },
    {
      "cell_type": "code",
      "execution_count": null,
      "metadata": {
        "id": "Sn9uflTH5ut6"
      },
      "outputs": [],
      "source": [
        "!pip3 install open3d==0.18.0 mediapy==1.1.2 lpips==0.1.4 scikit-image==0.21.0 tqdm==4.66.2 trimesh==4.3.2 opencv-python"
      ]
    },
    {
      "cell_type": "code",
      "execution_count": null,
      "metadata": {
        "id": "T2inVQ3K49lS"
      },
      "outputs": [],
      "source": [
        "!python render.py -m $MODEL_PATH -s $COLMAP_PATH"
      ]
    },
    {
      "cell_type": "markdown",
      "metadata": {
        "id": "IIJSOpZ9uc60"
      },
      "source": [
        "Training and rendering is complete, please navigate to your drive and see the model outputs under the directory \"2d_gaussian_splatting/\"."
      ]
    }
  ],
  "metadata": {
    "colab": {
      "provenance": [],
      "gpuType": "T4",
      "include_colab_link": true
    },
    "kernelspec": {
      "display_name": "Python 3",
      "name": "python3"
    },
    "language_info": {
      "name": "python"
    },
    "accelerator": "GPU"
  },
  "nbformat": 4,
  "nbformat_minor": 0
}