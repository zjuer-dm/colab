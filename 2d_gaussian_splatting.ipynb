{
  "cells": [
    {
      "cell_type": "markdown",
      "metadata": {
        "id": "ZUqX597nP-gI"
      },
      "source": [
        "Before proceeding, please ensure that your notebook is connected to a GPU runtime."
      ]
    },
    {
      "cell_type": "code",
      "execution_count": null,
      "metadata": {
        "id": "Iu5nIIrEY1_n"
      },
      "outputs": [],
      "source": [
        "%cd /content\n",
        "!git clone https://github.com/atakan-topaloglu/2d-gaussian-splatting --recursive\n",
        "!pip install -q plyfile"
      ]
    },
    {
      "cell_type": "code",
      "source": [
        "# --- 终极环境设置脚本 ---\n",
        "\n",
        "# 步骤 1: 安装完整的 CUDA 11.8 工具包\n",
        "print(\"--- 步骤 1: 安装 CUDA 11.8 Toolkit (这可能需要几分钟) ---\")\n",
        "!wget https://developer.download.nvidia.com/compute/cuda/repos/ubuntu2204/x86_64/cuda-keyring_1.1-1_all.deb\n",
        "!dpkg -i cuda-keyring_1.1-1_all.deb\n",
        "!apt-get update\n",
        "!apt-get -y install cuda-toolkit-11-8\n",
        "\n",
        "# 步骤 2: 设置环境变量，强制使用 CUDA 11.8\n",
        "print(\"\\n--- 步骤 2: 设置环境变量指向 CUDA 11.8 ---\")\n",
        "import os\n",
        "os.environ['CUDA_HOME'] = '/usr/local/cuda-11.8'\n",
        "os.environ['PATH'] = '/usr/local/cuda-11.8/bin:' + os.environ['PATH']\n",
        "# 验证 nvcc 版本\n",
        "!nvcc --version\n",
        "\n",
        "# 步骤 3: 安装并设置兼容的 C++ 编译器 (g++-10)\n",
        "print(\"\\n--- 步骤 3: 安装并设置 g++-10 ---\")\n",
        "!apt-get -y install g++-10\n",
        "!update-alternatives --install /usr/bin/g++ g++ /usr/bin/g++-10 10\n",
        "!update-alternatives --set g++ /usr/bin/g++-10\n",
        "# 验证 g++ 版本\n",
        "!g++ --version\n",
        "\n",
        "# 步骤 4: 安装与新环境完全匹配的 PyTorch\n",
        "print(\"\\n--- 步骤 4: 安装 PyTorch for CUDA 11.8 ---\")\n",
        "!pip install torch==2.0.1+cu118 torchvision==0.15.2+cu118 torchaudio==2.0.2 --index-url https://download.pytorch.org/whl/cu118\n",
        "\n",
        "print(\"\\n\\n--- ✅ 环境设置完成！ ---\")"
      ],
      "metadata": {
        "collapsed": true,
        "id": "KojJMeJeQTQ4"
      },
      "execution_count": null,
      "outputs": []
    },
    {
      "cell_type": "code",
      "execution_count": null,
      "metadata": {
        "id": "P-XjteusY6YB"
      },
      "outputs": [],
      "source": [
        "%cd /content/2d-gaussian-splatting/"
      ]
    },
    {
      "cell_type": "code",
      "execution_count": null,
      "metadata": {
        "id": "VC9U4Lt1Y7o1"
      },
      "outputs": [],
      "source": [
        "import os\n",
        "os.environ['CUDA_HOME'] = '/usr/local/cuda' #ensure that the CUDA path is correct\n",
        "!pip install ninja\n",
        "!pip install submodules/simple-knn\n",
        "!pip install submodules/diff-surfel-rasterization"
      ]
    },
    {
      "cell_type": "code",
      "execution_count": null,
      "metadata": {
        "id": "Gp_mHmNfY8OH"
      },
      "outputs": [],
      "source": [
        "from google.colab import drive\n",
        "drive.mount('/content/drive')"
      ]
    },
    {
      "cell_type": "code",
      "execution_count": null,
      "metadata": {
        "id": "mNbChlEEZ2ZP"
      },
      "outputs": [],
      "source": [
        "%cd /content/2d-gaussian-splatting/"
      ]
    },
    {
      "cell_type": "markdown",
      "metadata": {
        "id": "aklgj8llF7wH"
      },
      "source": [
        "For Colab to access your COLMAP processed data, please copy the COLMAP output to your Google Drive and enter the full COLMAP source path (e.g. /content/drive/MyDrive/COLMAP_out)"
      ]
    },
    {
      "cell_type": "code",
      "execution_count": null,
      "metadata": {
        "id": "UhHKVQ-Smo43"
      },
      "outputs": [],
      "source": [
        "COLMAP_PATH = str(input('Please enter COLMAP output path:'))"
      ]
    },
    {
      "cell_type": "code",
      "execution_count": null,
      "metadata": {
        "id": "3GxTJBDKZ9xW"
      },
      "outputs": [],
      "source": [
        "!python train.py -s $COLMAP_PATH"
      ]
    },
    {
      "cell_type": "markdown",
      "metadata": {
        "id": "VrcspuJsP-gQ"
      },
      "source": [
        "Training is complete, to use render.py, please enter the desired model_path located in your Drive: /content/drive/MyDrive/2d_gaussian_splatting/output/{10 digit UUID}: (e.g: /content/drive/MyDrive/2d_gaussian_splatting/output/8d812792-1)"
      ]
    },
    {
      "cell_type": "code",
      "execution_count": null,
      "metadata": {
        "id": "lUMA7hJhP-gQ"
      },
      "outputs": [],
      "source": [
        "MODEL_PATH = str(input('Please enter the model path:'))"
      ]
    },
    {
      "cell_type": "code",
      "execution_count": null,
      "metadata": {
        "id": "Sn9uflTH5ut6"
      },
      "outputs": [],
      "source": [
        "!pip3 install open3d==0.18.0 mediapy==1.1.2 lpips==0.1.4 scikit-image==0.21.0 tqdm==4.66.2 trimesh==4.3.2 opencv-python"
      ]
    },
    {
      "cell_type": "code",
      "execution_count": null,
      "metadata": {
        "id": "T2inVQ3K49lS"
      },
      "outputs": [],
      "source": [
        "!python render.py -m $MODEL_PATH -s $COLMAP_PATH"
      ]
    },
    {
      "cell_type": "markdown",
      "metadata": {
        "id": "_NHq5lIaP-gR"
      },
      "source": [
        "Training and rendering is complete, please navigate to your drive and see the model outputs under the directory \"2d_gaussian_splatting/\"."
      ]
    }
  ],
  "metadata": {
    "colab": {
      "provenance": []
    },
    "kernelspec": {
      "display_name": "Python 3",
      "name": "python3"
    },
    "language_info": {
      "name": "python"
    }
  },
  "nbformat": 4,
  "nbformat_minor": 0
}