{
  "cells": [
    {
      "cell_type": "markdown",
      "metadata": {
        "id": "view-in-github",
        "colab_type": "text"
      },
      "source": [
        "<a href=\"https://colab.research.google.com/github/zjuer-dm/colab/blob/main/2d_gaussian_splatting.ipynb\" target=\"_parent\"><img src=\"https://colab.research.google.com/assets/colab-badge.svg\" alt=\"Open In Colab\"/></a>"
      ]
    },
    {
      "cell_type": "markdown",
      "metadata": {
        "id": "EivsGunVuc6g"
      },
      "source": [
        "Before proceeding, please ensure that your notebook is connected to a GPU runtime."
      ]
    },
    {
      "cell_type": "code",
      "source": [
        "!apt-get update\n",
        "!apt-get install -y build-essential libglm-dev"
      ],
      "metadata": {
        "id": "WF9C6q7s1FDp",
        "outputId": "f7e4e8c9-3675-4e68-cb82-acc6051ad984",
        "colab": {
          "base_uri": "https://localhost:8080/"
        }
      },
      "execution_count": 1,
      "outputs": [
        {
          "output_type": "stream",
          "name": "stdout",
          "text": [
            "\r0% [Working]\r            \rHit:1 https://developer.download.nvidia.com/compute/cuda/repos/ubuntu2204/x86_64  InRelease\n",
            "Get:2 https://cloud.r-project.org/bin/linux/ubuntu jammy-cran40/ InRelease [3,632 B]\n",
            "Hit:3 http://archive.ubuntu.com/ubuntu jammy InRelease\n",
            "Get:4 https://r2u.stat.illinois.edu/ubuntu jammy InRelease [6,555 B]\n",
            "Get:5 http://archive.ubuntu.com/ubuntu jammy-updates InRelease [128 kB]\n",
            "Get:6 https://r2u.stat.illinois.edu/ubuntu jammy/main all Packages [9,050 kB]\n",
            "Get:7 http://archive.ubuntu.com/ubuntu jammy-backports InRelease [127 kB]\n",
            "Hit:8 https://ppa.launchpadcontent.net/deadsnakes/ppa/ubuntu jammy InRelease\n",
            "Get:9 http://archive.ubuntu.com/ubuntu jammy-updates/universe amd64 Packages [1,561 kB]\n",
            "Hit:10 https://ppa.launchpadcontent.net/graphics-drivers/ppa/ubuntu jammy InRelease\n",
            "Get:11 http://security.ubuntu.com/ubuntu jammy-security InRelease [129 kB]\n",
            "Hit:12 https://ppa.launchpadcontent.net/ubuntugis/ppa/ubuntu jammy InRelease\n",
            "Get:13 http://archive.ubuntu.com/ubuntu jammy-updates/restricted amd64 Packages [4,726 kB]\n",
            "Get:14 http://archive.ubuntu.com/ubuntu jammy-updates/main amd64 Packages [3,347 kB]\n",
            "Get:15 https://r2u.stat.illinois.edu/ubuntu jammy/main amd64 Packages [2,747 kB]\n",
            "Get:16 http://security.ubuntu.com/ubuntu jammy-security/universe amd64 Packages [1,253 kB]\n",
            "Fetched 23.1 MB in 5s (4,709 kB/s)\n",
            "Reading package lists... Done\n",
            "W: Skipping acquire of configured file 'main/source/Sources' as repository 'https://r2u.stat.illinois.edu/ubuntu jammy InRelease' does not seem to provide it (sources.list entry misspelt?)\n",
            "Reading package lists... Done\n",
            "Building dependency tree... Done\n",
            "Reading state information... Done\n",
            "build-essential is already the newest version (12.9ubuntu3).\n",
            "The following NEW packages will be installed:\n",
            "  libglm-dev\n",
            "0 upgraded, 1 newly installed, 0 to remove and 36 not upgraded.\n",
            "Need to get 188 kB of archives.\n",
            "After this operation, 2,312 kB of additional disk space will be used.\n",
            "Get:1 http://archive.ubuntu.com/ubuntu jammy/main amd64 libglm-dev all 0.9.9.8+ds-2 [188 kB]\n",
            "Fetched 188 kB in 0s (439 kB/s)\n",
            "Selecting previously unselected package libglm-dev.\n",
            "(Reading database ... 126308 files and directories currently installed.)\n",
            "Preparing to unpack .../libglm-dev_0.9.9.8+ds-2_all.deb ...\n",
            "Unpacking libglm-dev (0.9.9.8+ds-2) ...\n",
            "Setting up libglm-dev (0.9.9.8+ds-2) ...\n"
          ]
        }
      ]
    },
    {
      "cell_type": "code",
      "execution_count": 2,
      "metadata": {
        "colab": {
          "base_uri": "https://localhost:8080/"
        },
        "id": "Iu5nIIrEY1_n",
        "outputId": "3d05b704-da38-4ae0-af7c-d67bc87a9a11"
      },
      "outputs": [
        {
          "output_type": "stream",
          "name": "stdout",
          "text": [
            ">>> 1. Cloning repository...\n",
            "Cloning into '2d-gaussian-splatting'...\n",
            "remote: Enumerating objects: 274, done.\u001b[K\n",
            "remote: Counting objects: 100% (198/198), done.\u001b[K\n",
            "remote: Compressing objects: 100% (113/113), done.\u001b[K\n",
            "remote: Total 274 (delta 130), reused 85 (delta 85), pack-reused 76 (from 2)\u001b[K\n",
            "Receiving objects: 100% (274/274), 9.40 MiB | 12.65 MiB/s, done.\n",
            "Resolving deltas: 100% (136/136), done.\n",
            "Submodule 'submodules/diff-surfel-rasterization' (https://github.com/hbb1/diff-surfel-rasterization.git) registered for path 'submodules/diff-surfel-rasterization'\n",
            "Submodule 'submodules/simple-knn' (https://gitlab.inria.fr/bkerbl/simple-knn.git) registered for path 'submodules/simple-knn'\n",
            "Cloning into '/content/2d-gaussian-splatting/submodules/diff-surfel-rasterization'...\n",
            "remote: Enumerating objects: 697, done.        \n",
            "remote: Counting objects: 100% (285/285), done.        \n",
            "remote: Compressing objects: 100% (29/29), done.        \n",
            "remote: Total 697 (delta 269), reused 256 (delta 256), pack-reused 412 (from 1)        \n",
            "Receiving objects: 100% (697/697), 10.99 MiB | 14.24 MiB/s, done.\n",
            "Resolving deltas: 100% (499/499), done.\n",
            "Cloning into '/content/2d-gaussian-splatting/submodules/simple-knn'...\n",
            "remote: Enumerating objects: 37, done.        \n",
            "remote: Counting objects: 100% (37/37), done.        \n",
            "remote: Compressing objects: 100% (34/34), done.        \n",
            "remote: Total 37 (delta 18), reused 0 (delta 0), pack-reused 0 (from 0)        \n",
            "Receiving objects: 100% (37/37), 9.46 KiB | 9.46 MiB/s, done.\n",
            "Resolving deltas: 100% (18/18), done.\n",
            "Submodule path 'submodules/diff-surfel-rasterization': checked out 'e0ed0207b3e0669960cfad70852200a4a5847f61'\n",
            "Submodule 'third_party/glm' (https://github.com/g-truc/glm.git) registered for path 'submodules/diff-surfel-rasterization/third_party/glm'\n",
            "Cloning into '/content/2d-gaussian-splatting/submodules/diff-surfel-rasterization/third_party/glm'...\n",
            "remote: Enumerating objects: 59935, done.        \n",
            "remote: Counting objects: 100% (217/217), done.        \n",
            "remote: Compressing objects: 100% (88/88), done.        \n",
            "remote: Total 59935 (delta 170), reused 129 (delta 129), pack-reused 59718 (from 2)        \n",
            "Receiving objects: 100% (59935/59935), 71.37 MiB | 22.77 MiB/s, done.\n",
            "Resolving deltas: 100% (45405/45405), done.\n",
            "Submodule path 'submodules/diff-surfel-rasterization/third_party/glm': checked out '5c46b9c07008ae65cb81ab79cd677ecc1934b903'\n",
            "Submodule path 'submodules/simple-knn': checked out 'f155ec04131cb579f53443a06879d37115f4612f'\n",
            "/content/2d-gaussian-splatting\n",
            ">>> 2. Installing libglm-dev...\n",
            "Hit:1 https://cloud.r-project.org/bin/linux/ubuntu jammy-cran40/ InRelease\n",
            "Hit:2 https://developer.download.nvidia.com/compute/cuda/repos/ubuntu2204/x86_64  InRelease\n",
            "Hit:3 http://archive.ubuntu.com/ubuntu jammy InRelease\n",
            "Hit:4 http://archive.ubuntu.com/ubuntu jammy-updates InRelease\n",
            "Hit:5 http://security.ubuntu.com/ubuntu jammy-security InRelease\n",
            "Hit:6 https://r2u.stat.illinois.edu/ubuntu jammy InRelease\n",
            "Hit:7 http://archive.ubuntu.com/ubuntu jammy-backports InRelease\n",
            "Hit:8 https://ppa.launchpadcontent.net/deadsnakes/ppa/ubuntu jammy InRelease\n",
            "Hit:9 https://ppa.launchpadcontent.net/graphics-drivers/ppa/ubuntu jammy InRelease\n",
            "Hit:10 https://ppa.launchpadcontent.net/ubuntugis/ppa/ubuntu jammy InRelease\n",
            "Reading package lists... Done\n",
            "W: Skipping acquire of configured file 'main/source/Sources' as repository 'https://r2u.stat.illinois.edu/ubuntu jammy InRelease' does not seem to provide it (sources.list entry misspelt?)\n",
            "Reading package lists... Done\n",
            "Building dependency tree... Done\n",
            "Reading state information... Done\n",
            "libglm-dev is already the newest version (0.9.9.8+ds-2).\n",
            "0 upgraded, 0 newly installed, 0 to remove and 36 not upgraded.\n",
            ">>> 3. Patching simple-knn source code...\n",
            ">>> 4. Running pip install...\n",
            "Processing ./submodules/diff-surfel-rasterization\n",
            "  Preparing metadata (setup.py) ... \u001b[?25l\u001b[?25hdone\n",
            "Building wheels for collected packages: diff_surfel_rasterization\n",
            "  Building wheel for diff_surfel_rasterization (setup.py) ... \u001b[?25l\u001b[?25hdone\n",
            "  Created wheel for diff_surfel_rasterization: filename=diff_surfel_rasterization-0.0.1-cp311-cp311-linux_x86_64.whl size=3345736 sha256=b024c0684424334ea55b5f1bc751f97328f57c70a1eb7ac980a2d4d91ec7cbf5\n",
            "  Stored in directory: /root/.cache/pip/wheels/89/33/8d/cbb0da2867c8a6c65de6ec30f4e98297ecb5adbdf7832fc866\n",
            "Successfully built diff_surfel_rasterization\n",
            "Installing collected packages: diff_surfel_rasterization\n",
            "Successfully installed diff_surfel_rasterization-0.0.1\n",
            "Processing ./submodules/simple-knn\n",
            "  Preparing metadata (setup.py) ... \u001b[?25l\u001b[?25hdone\n",
            "Building wheels for collected packages: simple_knn\n",
            "  Building wheel for simple_knn (setup.py) ... \u001b[?25l\u001b[?25hdone\n",
            "  Created wheel for simple_knn: filename=simple_knn-0.0.0-cp311-cp311-linux_x86_64.whl size=3104680 sha256=09cbb92719aa976553d914f112328698f30ee330d4407a9f543589235385a24c\n",
            "  Stored in directory: /root/.cache/pip/wheels/c9/e6/30/4c5f6beb90bcc3a686002686298354701e938e8d69e434ed2f\n",
            "Successfully built simple_knn\n",
            "Installing collected packages: simple_knn\n",
            "Successfully installed simple_knn-0.0.0\n",
            "\u001b[31mERROR: Could not open requirements file: [Errno 2] No such file or directory: 'requirements.txt'\u001b[0m\u001b[31m\n",
            "\u001b[0m>>> Installation finished.\n",
            "\u001b[2K     \u001b[90m━━━━━━━━━━━━━━━━━━━━━━━━━━━━━━━━━━━━━━━━\u001b[0m \u001b[32m43.3/43.3 kB\u001b[0m \u001b[31m2.2 MB/s\u001b[0m eta \u001b[36m0:00:00\u001b[0m\n",
            "\u001b[?25h"
          ]
        }
      ],
      "source": [
        "# 1. 克隆主仓库及其所有子模块\n",
        "!echo \">>> 1. Cloning repository...\"\n",
        "!git clone --recursive https://github.com/hbb1/2d-gaussian-splatting.git\n",
        "%cd 2d-gaussian-splatting\n",
        "\n",
        "# 2. 安装第一个缺失的系统依赖 (用于解决第一个错误)\n",
        "!echo \">>> 2. Installing libglm-dev...\"\n",
        "!apt-get update && apt-get install -y libglm-dev\n",
        "\n",
        "# 3. 【关键修复】为 simple-knn 源码打补丁 (用于解决 FLT_MAX 错误)\n",
        "!echo \">>> 3. Patching simple-knn source code...\"\n",
        "!sed -i '1i#include <cfloat>' /content/2d-gaussian-splatting/submodules/simple-knn/simple_knn.cu\n",
        "\n",
        "# 4. 现在，执行完整的 pip 安装\n",
        "!echo \">>> 4. Running pip install...\"\n",
        "!pip install ./submodules/diff-surfel-rasterization\n",
        "!pip install ./submodules/simple-knn\n",
        "!pip install -r requirements.txt\n",
        "\n",
        "!echo \">>> Installation finished.\"\n",
        "!pip install -q plyfile"
      ]
    },
    {
      "cell_type": "code",
      "execution_count": 3,
      "metadata": {
        "colab": {
          "base_uri": "https://localhost:8080/"
        },
        "id": "P-XjteusY6YB",
        "outputId": "0cc7c459-986b-4385-9365-7d4f9831d2f4"
      },
      "outputs": [
        {
          "output_type": "stream",
          "name": "stdout",
          "text": [
            "/content/2d-gaussian-splatting\n"
          ]
        }
      ],
      "source": [
        "%cd /content/2d-gaussian-splatting/"
      ]
    },
    {
      "cell_type": "code",
      "execution_count": 4,
      "metadata": {
        "id": "VC9U4Lt1Y7o1"
      },
      "outputs": [],
      "source": [
        "import os\n",
        "# os.environ['CUDA_HOME'] = '/usr/local/cuda' #ensure that the CUDA path is correct\n",
        "# !pip install ninja\n",
        "# !pip install submodules/simple-knn --verbose\n",
        "# !pip install submodules/diff-surfel-rasterization --verbose"
      ]
    },
    {
      "cell_type": "code",
      "execution_count": 5,
      "metadata": {
        "colab": {
          "base_uri": "https://localhost:8080/"
        },
        "id": "Gp_mHmNfY8OH",
        "outputId": "13455869-8701-4382-a985-82a9b200c5e8"
      },
      "outputs": [
        {
          "output_type": "stream",
          "name": "stdout",
          "text": [
            "Mounted at /content/drive\n"
          ]
        }
      ],
      "source": [
        "from google.colab import drive\n",
        "drive.mount('/content/drive')"
      ]
    },
    {
      "cell_type": "code",
      "execution_count": 6,
      "metadata": {
        "colab": {
          "base_uri": "https://localhost:8080/"
        },
        "id": "mNbChlEEZ2ZP",
        "outputId": "eac7efb1-0ae7-429b-8bd7-0c8eccafdf2f"
      },
      "outputs": [
        {
          "output_type": "stream",
          "name": "stdout",
          "text": [
            "/content/2d-gaussian-splatting\n"
          ]
        }
      ],
      "source": [
        "%cd /content/2d-gaussian-splatting/"
      ]
    },
    {
      "cell_type": "markdown",
      "metadata": {
        "id": "aklgj8llF7wH"
      },
      "source": [
        "For Colab to access your COLMAP processed data, please copy the COLMAP output to your Google Drive and enter the full COLMAP source path (e.g. /content/drive/MyDrive/COLMAP_out)"
      ]
    },
    {
      "cell_type": "code",
      "execution_count": 7,
      "metadata": {
        "id": "UhHKVQ-Smo43",
        "colab": {
          "base_uri": "https://localhost:8080/"
        },
        "outputId": "bf10e1fc-9229-420b-e666-8b5879a5becc"
      },
      "outputs": [
        {
          "name": "stdout",
          "output_type": "stream",
          "text": [
            "Please enter COLMAP output path:/content/drive/MyDrive/360_extra_scenes/flowers\n"
          ]
        }
      ],
      "source": [
        "COLMAP_PATH = str(input('Please enter COLMAP output path:'))"
      ]
    },
    {
      "cell_type": "code",
      "execution_count": 8,
      "metadata": {
        "id": "3GxTJBDKZ9xW",
        "colab": {
          "base_uri": "https://localhost:8080/"
        },
        "outputId": "07bd49fa-2ce6-434d-f7be-c84f20a8862c"
      },
      "outputs": [
        {
          "output_type": "stream",
          "name": "stdout",
          "text": [
            "2025-06-24 12:36:49.980320: E external/local_xla/xla/stream_executor/cuda/cuda_fft.cc:477] Unable to register cuFFT factory: Attempting to register factory for plugin cuFFT when one has already been registered\n",
            "WARNING: All log messages before absl::InitializeLog() is called are written to STDERR\n",
            "E0000 00:00:1750768610.000036    4786 cuda_dnn.cc:8310] Unable to register cuDNN factory: Attempting to register factory for plugin cuDNN when one has already been registered\n",
            "E0000 00:00:1750768610.006049    4786 cuda_blas.cc:1418] Unable to register cuBLAS factory: Attempting to register factory for plugin cuBLAS when one has already been registered\n",
            "2025-06-24 12:36:50.028199: I tensorflow/core/platform/cpu_feature_guard.cc:210] This TensorFlow binary is optimized to use available CPU instructions in performance-critical operations.\n",
            "To enable the following instructions: AVX2 AVX512F FMA, in other operations, rebuild TensorFlow with the appropriate compiler flags.\n",
            "Optimizing \n",
            "Output folder: ./output/8f6e8467-4 [24/06 12:36:53]\n",
            "Traceback (most recent call last):\n",
            "  File \"/content/2d-gaussian-splatting/scene/dataset_readers.py\", line 136, in readColmapSceneInfo\n",
            "    cam_extrinsics = read_extrinsics_binary(cameras_extrinsic_file)\n",
            "                     ^^^^^^^^^^^^^^^^^^^^^^^^^^^^^^^^^^^^^^^^^^^^^^\n",
            "  File \"/content/2d-gaussian-splatting/scene/colmap_loader.py\", line 187, in read_extrinsics_binary\n",
            "    with open(path_to_model_file, \"rb\") as fid:\n",
            "         ^^^^^^^^^^^^^^^^^^^^^^^^^^^^^^\n",
            "FileNotFoundError: [Errno 2] No such file or directory: '/content/drive/MyDrive/360_extra_scenes/flowers/sparse/0/images.bin'\n",
            "\n",
            "During handling of the above exception, another exception occurred:\n",
            "\n",
            "Traceback (most recent call last):\n",
            "  File \"/content/2d-gaussian-splatting/train.py\", line 277, in <module>\n",
            "    training(lp.extract(args), op.extract(args), pp.extract(args), args.test_iterations, args.save_iterations, args.checkpoint_iterations, args.start_checkpoint)\n",
            "  File \"/content/2d-gaussian-splatting/train.py\", line 35, in training\n",
            "    scene = Scene(dataset, gaussians)\n",
            "            ^^^^^^^^^^^^^^^^^^^^^^^^^\n",
            "  File \"/content/2d-gaussian-splatting/scene/__init__.py\", line 44, in __init__\n",
            "    scene_info = sceneLoadTypeCallbacks[\"Colmap\"](args.source_path, args.images, args.eval)\n",
            "                 ^^^^^^^^^^^^^^^^^^^^^^^^^^^^^^^^^^^^^^^^^^^^^^^^^^^^^^^^^^^^^^^^^^^^^^^^^^\n",
            "  File \"/content/2d-gaussian-splatting/scene/dataset_readers.py\", line 141, in readColmapSceneInfo\n",
            "    cam_extrinsics = read_extrinsics_text(cameras_extrinsic_file)\n",
            "                     ^^^^^^^^^^^^^^^^^^^^^^^^^^^^^^^^^^^^^^^^^^^^\n",
            "  File \"/content/2d-gaussian-splatting/scene/colmap_loader.py\", line 249, in read_extrinsics_text\n",
            "    with open(path, \"r\") as fid:\n",
            "         ^^^^^^^^^^^^^^^\n",
            "FileNotFoundError: [Errno 2] No such file or directory: '/content/drive/MyDrive/360_extra_scenes/flowers/sparse/0/images.txt'\n"
          ]
        }
      ],
      "source": [
        "!python train.py -s $COLMAP_PATH"
      ]
    },
    {
      "cell_type": "markdown",
      "metadata": {
        "id": "D-RP0ykwuc6y"
      },
      "source": [
        "Training is complete, to use render.py, please enter the desired model_path located in your Drive: /content/drive/MyDrive/2d_gaussian_splatting/output/{10 digit UUID}: (e.g: /content/drive/MyDrive/2d_gaussian_splatting/output/8d812792-1)"
      ]
    },
    {
      "cell_type": "code",
      "execution_count": null,
      "metadata": {
        "id": "ZmbxOxstuc6y"
      },
      "outputs": [],
      "source": [
        "MODEL_PATH = str(input('Please enter the model path:'))"
      ]
    },
    {
      "cell_type": "code",
      "execution_count": null,
      "metadata": {
        "id": "Sn9uflTH5ut6"
      },
      "outputs": [],
      "source": [
        "!pip3 install open3d==0.18.0 mediapy==1.1.2 lpips==0.1.4 scikit-image==0.21.0 tqdm==4.66.2 trimesh==4.3.2 opencv-python"
      ]
    },
    {
      "cell_type": "code",
      "execution_count": null,
      "metadata": {
        "id": "T2inVQ3K49lS"
      },
      "outputs": [],
      "source": [
        "!python render.py -m $MODEL_PATH -s $COLMAP_PATH"
      ]
    },
    {
      "cell_type": "markdown",
      "metadata": {
        "id": "IIJSOpZ9uc60"
      },
      "source": [
        "Training and rendering is complete, please navigate to your drive and see the model outputs under the directory \"2d_gaussian_splatting/\"."
      ]
    }
  ],
  "metadata": {
    "colab": {
      "provenance": [],
      "gpuType": "T4",
      "include_colab_link": true
    },
    "kernelspec": {
      "display_name": "Python 3",
      "name": "python3"
    },
    "language_info": {
      "name": "python"
    },
    "accelerator": "GPU"
  },
  "nbformat": 4,
  "nbformat_minor": 0
}