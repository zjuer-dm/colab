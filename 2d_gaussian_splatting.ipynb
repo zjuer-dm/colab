{
  "cells": [
    {
      "cell_type": "markdown",
      "metadata": {
        "id": "VCWAjoalDiVh"
      },
      "source": [
        "Before proceeding, please ensure that your notebook is connected to a GPU runtime."
      ]
    },
    {
      "cell_type": "code",
      "execution_count": 1,
      "metadata": {
        "colab": {
          "base_uri": "https://localhost:8080/"
        },
        "id": "Iu5nIIrEY1_n",
        "outputId": "0abc2a2e-056e-400f-d2d1-e7af0ef5b50d"
      },
      "outputs": [
        {
          "output_type": "stream",
          "name": "stdout",
          "text": [
            "/content\n",
            "Cloning into '2d-gaussian-splatting'...\n",
            "remote: Enumerating objects: 238, done.\u001b[K\n",
            "remote: Counting objects: 100% (172/172), done.\u001b[K\n",
            "remote: Compressing objects: 100% (95/95), done.\u001b[K\n",
            "remote: Total 238 (delta 110), reused 77 (delta 77), pack-reused 66 (from 1)\u001b[K\n",
            "Receiving objects: 100% (238/238), 9.39 MiB | 20.91 MiB/s, done.\n",
            "Resolving deltas: 100% (116/116), done.\n",
            "Submodule 'submodules/diff-surfel-rasterization' (https://github.com/hbb1/diff-surfel-rasterization.git) registered for path 'submodules/diff-surfel-rasterization'\n",
            "Submodule 'submodules/simple-knn' (https://gitlab.inria.fr/bkerbl/simple-knn.git) registered for path 'submodules/simple-knn'\n",
            "Cloning into '/content/2d-gaussian-splatting/submodules/diff-surfel-rasterization'...\n",
            "remote: Enumerating objects: 697, done.        \n",
            "remote: Counting objects: 100% (287/287), done.        \n",
            "remote: Compressing objects: 100% (33/33), done.        \n",
            "remote: Total 697 (delta 272), reused 254 (delta 254), pack-reused 410 (from 1)        \n",
            "Receiving objects: 100% (697/697), 10.99 MiB | 14.96 MiB/s, done.\n",
            "Resolving deltas: 100% (499/499), done.\n",
            "Cloning into '/content/2d-gaussian-splatting/submodules/simple-knn'...\n",
            "remote: Enumerating objects: 37, done.        \n",
            "remote: Counting objects: 100% (37/37), done.        \n",
            "remote: Compressing objects: 100% (34/34), done.        \n",
            "remote: Total 37 (delta 18), reused 0 (delta 0), pack-reused 0 (from 0)        \n",
            "Receiving objects: 100% (37/37), 9.46 KiB | 2.37 MiB/s, done.\n",
            "Resolving deltas: 100% (18/18), done.\n",
            "Submodule path 'submodules/diff-surfel-rasterization': checked out '28c928a36ea19407cd9754d068bd9a9535216979'\n",
            "Submodule 'third_party/glm' (https://github.com/g-truc/glm.git) registered for path 'submodules/diff-surfel-rasterization/third_party/glm'\n",
            "Cloning into '/content/2d-gaussian-splatting/submodules/diff-surfel-rasterization/third_party/glm'...\n",
            "remote: Enumerating objects: 59935, done.        \n",
            "remote: Counting objects: 100% (217/217), done.        \n",
            "remote: Compressing objects: 100% (88/88), done.        \n",
            "remote: Total 59935 (delta 170), reused 129 (delta 129), pack-reused 59718 (from 2)        \n",
            "Receiving objects: 100% (59935/59935), 71.37 MiB | 11.13 MiB/s, done.\n",
            "Resolving deltas: 100% (45405/45405), done.\n",
            "Submodule path 'submodules/diff-surfel-rasterization/third_party/glm': checked out '5c46b9c07008ae65cb81ab79cd677ecc1934b903'\n",
            "Submodule path 'submodules/simple-knn': checked out 'f155ec04131cb579f53443a06879d37115f4612f'\n",
            "\u001b[2K     \u001b[90m━━━━━━━━━━━━━━━━━━━━━━━━━━━━━━━━━━━━━━━━\u001b[0m \u001b[32m43.3/43.3 kB\u001b[0m \u001b[31m1.6 MB/s\u001b[0m eta \u001b[36m0:00:00\u001b[0m\n",
            "\u001b[?25h"
          ]
        }
      ],
      "source": [
        "%cd /content\n",
        "!git clone https://github.com/atakan-topaloglu/2d-gaussian-splatting --recursive\n",
        "!pip install -q plyfile"
      ]
    },
    {
      "cell_type": "code",
      "execution_count": 2,
      "metadata": {
        "colab": {
          "base_uri": "https://localhost:8080/"
        },
        "id": "P-XjteusY6YB",
        "outputId": "e59b764c-8c4b-43e2-822d-5d25426fa3f2"
      },
      "outputs": [
        {
          "output_type": "stream",
          "name": "stdout",
          "text": [
            "/content/2d-gaussian-splatting\n"
          ]
        }
      ],
      "source": [
        "%cd /content/2d-gaussian-splatting/"
      ]
    },
    {
      "cell_type": "code",
      "source": [
        "!nvcc --version"
      ],
      "metadata": {
        "id": "jDRjrjBAGjFM",
        "outputId": "7e2e33af-7df7-47f8-b0c8-407c3d6ad95d",
        "colab": {
          "base_uri": "https://localhost:8080/"
        }
      },
      "execution_count": 4,
      "outputs": [
        {
          "output_type": "stream",
          "name": "stdout",
          "text": [
            "nvcc: NVIDIA (R) Cuda compiler driver\n",
            "Copyright (c) 2005-2024 NVIDIA Corporation\n",
            "Built on Thu_Jun__6_02:18:23_PDT_2024\n",
            "Cuda compilation tools, release 12.5, V12.5.82\n",
            "Build cuda_12.5.r12.5/compiler.34385749_0\n"
          ]
        }
      ]
    },
    {
      "cell_type": "code",
      "source": [
        "# 0. 确保我们在一个干净的初始位置\n",
        "%cd /content/\n",
        "\n",
        "# 1. 安装所有必需的系统级编译工具 (包含 build-essential 和新增的 cmake)\n",
        "print(\"--- Installing build-essential and cmake ---\")\n",
        "!apt-get update && apt-get install -y build-essential cmake\n",
        "\n",
        "# 2. 安装与 Colab 环境兼容的 PyTorch (保持不变)\n",
        "print(\"\\n--- Installing PyTorch for CUDA 12.4 ---\")\n",
        "!pip install torch torchvision torchaudio --index-url https://download.pytorch.org/whl/cu124\n",
        "\n",
        "# 3. 克隆正确的项目源代码仓库 (保持不变)\n",
        "print(\"\\n--- Cloning the correct repository (hbb1/2d-gaussian-splatting) ---\")\n",
        "!git clone --recursive https://github.com/hbb1/2d-gaussian-splatting.git\n",
        "\n",
        "# 4. 进入正确的目录 (保持不变)\n",
        "%cd 2d-gaussian-splatting\n",
        "\n",
        "# 5. 安装项目的 Python 依赖 (修正了 requirements.txt 的拼写错误)\n",
        "print(\"\\n--- Installing Python requirements (from requirement.txt) ---\")\n",
        "!pip install -r requirement.txt\n",
        "\n",
        "# 6. 现在，在拥有了所有编译工具和Python库后，编译并安装子模块\n",
        "print(\"\\n--- Installing submodule: diff-surfel-rasterization ---\")\n",
        "!pip install -e ./submodules/diff-surfel-rasterization\n",
        "\n",
        "print(\"\\n--- Installing submodule: simple-knn ---\")\n",
        "!pip install -e ./submodules/simple-knn\n",
        "\n",
        "print(\"\\n\\n✅ --- FINAL SETUP COMPLETE! All dependencies should be correctly installed. --- ✅\")"
      ],
      "metadata": {
        "id": "bJgmTsmGGkpR",
        "outputId": "b97c9c9f-7551-4f65-ea11-12a0269ce12c",
        "colab": {
          "base_uri": "https://localhost:8080/"
        }
      },
      "execution_count": 2,
      "outputs": [
        {
          "output_type": "stream",
          "name": "stdout",
          "text": [
            "--- Installing build-essential ---\n",
            "Hit:1 http://security.ubuntu.com/ubuntu jammy-security InRelease\n",
            "Hit:2 https://cloud.r-project.org/bin/linux/ubuntu jammy-cran40/ InRelease\n",
            "Hit:3 https://developer.download.nvidia.com/compute/cuda/repos/ubuntu2204/x86_64  InRelease\n",
            "Hit:4 http://archive.ubuntu.com/ubuntu jammy InRelease\n",
            "Hit:5 https://r2u.stat.illinois.edu/ubuntu jammy InRelease\n",
            "Hit:6 http://archive.ubuntu.com/ubuntu jammy-updates InRelease\n",
            "Hit:7 http://archive.ubuntu.com/ubuntu jammy-backports InRelease\n",
            "Hit:8 https://ppa.launchpadcontent.net/deadsnakes/ppa/ubuntu jammy InRelease\n",
            "Hit:9 https://ppa.launchpadcontent.net/graphics-drivers/ppa/ubuntu jammy InRelease\n",
            "Hit:10 https://ppa.launchpadcontent.net/ubuntugis/ppa/ubuntu jammy InRelease\n",
            "Reading package lists... Done\n",
            "W: Skipping acquire of configured file 'main/source/Sources' as repository 'https://r2u.stat.illinois.edu/ubuntu jammy InRelease' does not seem to provide it (sources.list entry misspelt?)\n",
            "Reading package lists... Done\n",
            "Building dependency tree... Done\n",
            "Reading state information... Done\n",
            "build-essential is already the newest version (12.9ubuntu3).\n",
            "0 upgraded, 0 newly installed, 0 to remove and 37 not upgraded.\n",
            "\n",
            "--- Installing PyTorch for CUDA 12.4 ---\n",
            "Looking in indexes: https://download.pytorch.org/whl/cu124\n",
            "Requirement already satisfied: torch in /usr/local/lib/python3.11/dist-packages (2.6.0+cu124)\n",
            "Requirement already satisfied: torchvision in /usr/local/lib/python3.11/dist-packages (0.21.0+cu124)\n",
            "Requirement already satisfied: torchaudio in /usr/local/lib/python3.11/dist-packages (2.6.0+cu124)\n",
            "Requirement already satisfied: filelock in /usr/local/lib/python3.11/dist-packages (from torch) (3.18.0)\n",
            "Requirement already satisfied: typing-extensions>=4.10.0 in /usr/local/lib/python3.11/dist-packages (from torch) (4.14.0)\n",
            "Requirement already satisfied: networkx in /usr/local/lib/python3.11/dist-packages (from torch) (3.5)\n",
            "Requirement already satisfied: jinja2 in /usr/local/lib/python3.11/dist-packages (from torch) (3.1.6)\n",
            "Requirement already satisfied: fsspec in /usr/local/lib/python3.11/dist-packages (from torch) (2025.3.2)\n",
            "Requirement already satisfied: nvidia-cuda-nvrtc-cu12==12.4.127 in /usr/local/lib/python3.11/dist-packages (from torch) (12.4.127)\n",
            "Requirement already satisfied: nvidia-cuda-runtime-cu12==12.4.127 in /usr/local/lib/python3.11/dist-packages (from torch) (12.4.127)\n",
            "Requirement already satisfied: nvidia-cuda-cupti-cu12==12.4.127 in /usr/local/lib/python3.11/dist-packages (from torch) (12.4.127)\n",
            "Requirement already satisfied: nvidia-cudnn-cu12==9.1.0.70 in /usr/local/lib/python3.11/dist-packages (from torch) (9.1.0.70)\n",
            "Requirement already satisfied: nvidia-cublas-cu12==12.4.5.8 in /usr/local/lib/python3.11/dist-packages (from torch) (12.4.5.8)\n",
            "Requirement already satisfied: nvidia-cufft-cu12==11.2.1.3 in /usr/local/lib/python3.11/dist-packages (from torch) (11.2.1.3)\n",
            "Requirement already satisfied: nvidia-curand-cu12==10.3.5.147 in /usr/local/lib/python3.11/dist-packages (from torch) (10.3.5.147)\n",
            "Requirement already satisfied: nvidia-cusolver-cu12==11.6.1.9 in /usr/local/lib/python3.11/dist-packages (from torch) (11.6.1.9)\n",
            "Requirement already satisfied: nvidia-cusparse-cu12==12.3.1.170 in /usr/local/lib/python3.11/dist-packages (from torch) (12.3.1.170)\n",
            "Requirement already satisfied: nvidia-cusparselt-cu12==0.6.2 in /usr/local/lib/python3.11/dist-packages (from torch) (0.6.2)\n",
            "Requirement already satisfied: nvidia-nccl-cu12==2.21.5 in /usr/local/lib/python3.11/dist-packages (from torch) (2.21.5)\n",
            "Requirement already satisfied: nvidia-nvtx-cu12==12.4.127 in /usr/local/lib/python3.11/dist-packages (from torch) (12.4.127)\n",
            "Requirement already satisfied: nvidia-nvjitlink-cu12==12.4.127 in /usr/local/lib/python3.11/dist-packages (from torch) (12.4.127)\n",
            "Requirement already satisfied: triton==3.2.0 in /usr/local/lib/python3.11/dist-packages (from torch) (3.2.0)\n",
            "Requirement already satisfied: sympy==1.13.1 in /usr/local/lib/python3.11/dist-packages (from torch) (1.13.1)\n",
            "Requirement already satisfied: mpmath<1.4,>=1.1.0 in /usr/local/lib/python3.11/dist-packages (from sympy==1.13.1->torch) (1.3.0)\n",
            "Requirement already satisfied: numpy in /usr/local/lib/python3.11/dist-packages (from torchvision) (2.0.2)\n",
            "Requirement already satisfied: pillow!=8.3.*,>=5.3.0 in /usr/local/lib/python3.11/dist-packages (from torchvision) (11.2.1)\n",
            "Requirement already satisfied: MarkupSafe>=2.0 in /usr/local/lib/python3.11/dist-packages (from jinja2->torch) (3.0.2)\n",
            "\n",
            "--- Cloning the correct repository (hbb1/2d-gaussian-splatting) ---\n",
            "Cloning into '2d-gaussian-splatting'...\n",
            "remote: Enumerating objects: 274, done.\u001b[K\n",
            "remote: Counting objects: 100% (198/198), done.\u001b[K\n",
            "remote: Compressing objects: 100% (113/113), done.\u001b[K\n",
            "remote: Total 274 (delta 130), reused 85 (delta 85), pack-reused 76 (from 2)\u001b[K\n",
            "Receiving objects: 100% (274/274), 9.40 MiB | 16.29 MiB/s, done.\n",
            "Resolving deltas: 100% (136/136), done.\n",
            "Submodule 'submodules/diff-surfel-rasterization' (https://github.com/hbb1/diff-surfel-rasterization.git) registered for path 'submodules/diff-surfel-rasterization'\n",
            "Submodule 'submodules/simple-knn' (https://gitlab.inria.fr/bkerbl/simple-knn.git) registered for path 'submodules/simple-knn'\n",
            "Cloning into '/content/2d_gaussian_splatting_colab/2d-gaussian-splatting/submodules/diff-surfel-rasterization'...\n",
            "remote: Enumerating objects: 697, done.        \n",
            "remote: Counting objects: 100% (285/285), done.        \n",
            "remote: Compressing objects: 100% (29/29), done.        \n",
            "remote: Total 697 (delta 269), reused 256 (delta 256), pack-reused 412 (from 1)        \n",
            "Receiving objects: 100% (697/697), 10.99 MiB | 19.60 MiB/s, done.\n",
            "Resolving deltas: 100% (499/499), done.\n",
            "Cloning into '/content/2d_gaussian_splatting_colab/2d-gaussian-splatting/submodules/simple-knn'...\n",
            "remote: Enumerating objects: 37, done.        \n",
            "remote: Counting objects: 100% (37/37), done.        \n",
            "remote: Compressing objects: 100% (34/34), done.        \n",
            "remote: Total 37 (delta 18), reused 0 (delta 0), pack-reused 0 (from 0)        \n",
            "Receiving objects: 100% (37/37), 9.46 KiB | 9.46 MiB/s, done.\n",
            "Resolving deltas: 100% (18/18), done.\n",
            "Submodule path 'submodules/diff-surfel-rasterization': checked out 'e0ed0207b3e0669960cfad70852200a4a5847f61'\n",
            "Submodule 'third_party/glm' (https://github.com/g-truc/glm.git) registered for path 'submodules/diff-surfel-rasterization/third_party/glm'\n",
            "Cloning into '/content/2d_gaussian_splatting_colab/2d-gaussian-splatting/submodules/diff-surfel-rasterization/third_party/glm'...\n",
            "remote: Enumerating objects: 59935, done.        \n",
            "remote: Counting objects: 100% (217/217), done.        \n",
            "remote: Compressing objects: 100% (88/88), done.        \n",
            "remote: Total 59935 (delta 170), reused 129 (delta 129), pack-reused 59718 (from 2)        \n",
            "Receiving objects: 100% (59935/59935), 71.37 MiB | 18.03 MiB/s, done.\n",
            "Resolving deltas: 100% (45405/45405), done.\n",
            "Submodule path 'submodules/diff-surfel-rasterization/third_party/glm': checked out '5c46b9c07008ae65cb81ab79cd677ecc1934b903'\n",
            "Submodule path 'submodules/simple-knn': checked out 'f155ec04131cb579f53443a06879d37115f4612f'\n",
            "/content/2d_gaussian_splatting_colab/2d-gaussian-splatting\n",
            "\n",
            "--- Installing requirements.txt ---\n",
            "\u001b[31mERROR: Could not open requirements file: [Errno 2] No such file or directory: 'requirements.txt'\u001b[0m\u001b[31m\n",
            "\u001b[0m\n",
            "--- Installing submodule: diff-surfel-rasterization ---\n",
            "Obtaining file:///content/2d_gaussian_splatting_colab/2d-gaussian-splatting/submodules/diff-surfel-rasterization\n",
            "  Preparing metadata (setup.py) ... \u001b[?25l\u001b[?25hdone\n",
            "Installing collected packages: diff_surfel_rasterization\n",
            "  Running setup.py develop for diff_surfel_rasterization\n",
            "    \u001b[1;31merror\u001b[0m: \u001b[1msubprocess-exited-with-error\u001b[0m\n",
            "    \n",
            "    \u001b[31m×\u001b[0m \u001b[32mpython setup.py develop\u001b[0m did not run successfully.\n",
            "    \u001b[31m│\u001b[0m exit code: \u001b[1;36m1\u001b[0m\n",
            "    \u001b[31m╰─>\u001b[0m See above for output.\n",
            "    \n",
            "    \u001b[1;35mnote\u001b[0m: This error originates from a subprocess, and is likely not a problem with pip.\n",
            "\u001b[1;31merror\u001b[0m: \u001b[1msubprocess-exited-with-error\u001b[0m\n",
            "\n",
            "\u001b[31m×\u001b[0m \u001b[32mpython setup.py develop\u001b[0m did not run successfully.\n",
            "\u001b[31m│\u001b[0m exit code: \u001b[1;36m1\u001b[0m\n",
            "\u001b[31m╰─>\u001b[0m See above for output.\n",
            "\n",
            "\u001b[1;35mnote\u001b[0m: This error originates from a subprocess, and is likely not a problem with pip.\n",
            "\n",
            "--- Installing submodule: simple-knn ---\n",
            "Obtaining file:///content/2d_gaussian_splatting_colab/2d-gaussian-splatting/submodules/simple-knn\n",
            "  Preparing metadata (setup.py) ... \u001b[?25l\u001b[?25hdone\n",
            "Installing collected packages: simple_knn\n",
            "  Running setup.py develop for simple_knn\n",
            "    \u001b[1;31merror\u001b[0m: \u001b[1msubprocess-exited-with-error\u001b[0m\n",
            "    \n",
            "    \u001b[31m×\u001b[0m \u001b[32mpython setup.py develop\u001b[0m did not run successfully.\n",
            "    \u001b[31m│\u001b[0m exit code: \u001b[1;36m1\u001b[0m\n",
            "    \u001b[31m╰─>\u001b[0m See above for output.\n",
            "    \n",
            "    \u001b[1;35mnote\u001b[0m: This error originates from a subprocess, and is likely not a problem with pip.\n",
            "\u001b[1;31merror\u001b[0m: \u001b[1msubprocess-exited-with-error\u001b[0m\n",
            "\n",
            "\u001b[31m×\u001b[0m \u001b[32mpython setup.py develop\u001b[0m did not run successfully.\n",
            "\u001b[31m│\u001b[0m exit code: \u001b[1;36m1\u001b[0m\n",
            "\u001b[31m╰─>\u001b[0m See above for output.\n",
            "\n",
            "\u001b[1;35mnote\u001b[0m: This error originates from a subprocess, and is likely not a problem with pip.\n",
            "\n",
            "\n",
            "✅ --- Setup complete! You should now be able to run the project. --- ✅\n"
          ]
        }
      ]
    },
    {
      "cell_type": "code",
      "execution_count": 3,
      "metadata": {
        "colab": {
          "base_uri": "https://localhost:8080/"
        },
        "id": "VC9U4Lt1Y7o1",
        "outputId": "95bd2b55-fda2-4729-d248-e74a4577d906"
      },
      "outputs": [
        {
          "output_type": "stream",
          "name": "stdout",
          "text": [
            "Collecting ninja\n",
            "  Downloading ninja-1.11.1.4-py3-none-manylinux_2_12_x86_64.manylinux2010_x86_64.whl.metadata (5.0 kB)\n",
            "Downloading ninja-1.11.1.4-py3-none-manylinux_2_12_x86_64.manylinux2010_x86_64.whl (422 kB)\n",
            "\u001b[?25l   \u001b[90m━━━━━━━━━━━━━━━━━━━━━━━━━━━━━━━━━━━━━━━━\u001b[0m \u001b[32m0.0/422.8 kB\u001b[0m \u001b[31m?\u001b[0m eta \u001b[36m-:--:--\u001b[0m\r\u001b[2K   \u001b[91m━━━━━━━━━━━━━━━━━━\u001b[0m\u001b[90m╺\u001b[0m\u001b[90m━━━━━━━━━━━━━━━━━━━━━\u001b[0m \u001b[32m194.6/422.8 kB\u001b[0m \u001b[31m5.6 MB/s\u001b[0m eta \u001b[36m0:00:01\u001b[0m\r\u001b[2K   \u001b[90m━━━━━━━━━━━━━━━━━━━━━━━━━━━━━━━━━━━━━━━━\u001b[0m \u001b[32m422.8/422.8 kB\u001b[0m \u001b[31m7.4 MB/s\u001b[0m eta \u001b[36m0:00:00\u001b[0m\n",
            "\u001b[?25hInstalling collected packages: ninja\n",
            "Successfully installed ninja-1.11.1.4\n",
            "Processing ./submodules/simple-knn\n",
            "  Preparing metadata (setup.py) ... \u001b[?25l\u001b[?25hdone\n",
            "Building wheels for collected packages: simple_knn\n",
            "  \u001b[1;31merror\u001b[0m: \u001b[1msubprocess-exited-with-error\u001b[0m\n",
            "  \n",
            "  \u001b[31m×\u001b[0m \u001b[32mpython setup.py bdist_wheel\u001b[0m did not run successfully.\n",
            "  \u001b[31m│\u001b[0m exit code: \u001b[1;36m1\u001b[0m\n",
            "  \u001b[31m╰─>\u001b[0m See above for output.\n",
            "  \n",
            "  \u001b[1;35mnote\u001b[0m: This error originates from a subprocess, and is likely not a problem with pip.\n",
            "  Building wheel for simple_knn (setup.py) ... \u001b[?25lerror\n",
            "\u001b[31m  ERROR: Failed building wheel for simple_knn\u001b[0m\u001b[31m\n",
            "\u001b[0m\u001b[?25h  Running setup.py clean for simple_knn\n",
            "Failed to build simple_knn\n",
            "\u001b[31mERROR: ERROR: Failed to build installable wheels for some pyproject.toml based projects (simple_knn)\u001b[0m\u001b[31m\n",
            "\u001b[0mProcessing ./submodules/diff-surfel-rasterization\n",
            "  Preparing metadata (setup.py) ... \u001b[?25l\u001b[?25hdone\n",
            "Building wheels for collected packages: diff_surfel_rasterization\n",
            "  \u001b[1;31merror\u001b[0m: \u001b[1msubprocess-exited-with-error\u001b[0m\n",
            "  \n",
            "  \u001b[31m×\u001b[0m \u001b[32mpython setup.py bdist_wheel\u001b[0m did not run successfully.\n",
            "  \u001b[31m│\u001b[0m exit code: \u001b[1;36m1\u001b[0m\n",
            "  \u001b[31m╰─>\u001b[0m See above for output.\n",
            "  \n",
            "  \u001b[1;35mnote\u001b[0m: This error originates from a subprocess, and is likely not a problem with pip.\n",
            "  Building wheel for diff_surfel_rasterization (setup.py) ... \u001b[?25lerror\n",
            "\u001b[31m  ERROR: Failed building wheel for diff_surfel_rasterization\u001b[0m\u001b[31m\n",
            "\u001b[0m\u001b[?25h  Running setup.py clean for diff_surfel_rasterization\n",
            "Failed to build diff_surfel_rasterization\n",
            "\u001b[31mERROR: ERROR: Failed to build installable wheels for some pyproject.toml based projects (diff_surfel_rasterization)\u001b[0m\u001b[31m\n",
            "\u001b[0m"
          ]
        }
      ],
      "source": [
        "import os\n",
        "os.environ['CUDA_HOME'] = '/usr/local/cuda' #ensure that the CUDA path is correct\n",
        "!pip install ninja\n",
        "!pip install submodules/simple-knn\n",
        "!pip install submodules/diff-surfel-rasterization"
      ]
    },
    {
      "cell_type": "code",
      "execution_count": null,
      "metadata": {
        "id": "Gp_mHmNfY8OH"
      },
      "outputs": [],
      "source": [
        "from google.colab import drive\n",
        "drive.mount('/content/drive')"
      ]
    },
    {
      "cell_type": "code",
      "execution_count": null,
      "metadata": {
        "id": "mNbChlEEZ2ZP"
      },
      "outputs": [],
      "source": [
        "%cd /content/2d-gaussian-splatting/"
      ]
    },
    {
      "cell_type": "markdown",
      "metadata": {
        "id": "aklgj8llF7wH"
      },
      "source": [
        "For Colab to access your COLMAP processed data, please copy the COLMAP output to your Google Drive and enter the full COLMAP source path (e.g. /content/drive/MyDrive/COLMAP_out)"
      ]
    },
    {
      "cell_type": "code",
      "execution_count": null,
      "metadata": {
        "id": "UhHKVQ-Smo43"
      },
      "outputs": [],
      "source": [
        "COLMAP_PATH = str(input('Please enter COLMAP output path:'))"
      ]
    },
    {
      "cell_type": "code",
      "execution_count": null,
      "metadata": {
        "id": "3GxTJBDKZ9xW"
      },
      "outputs": [],
      "source": [
        "!python train.py -s $COLMAP_PATH"
      ]
    },
    {
      "cell_type": "markdown",
      "metadata": {
        "id": "5duU8tUKDiVo"
      },
      "source": [
        "Training is complete, to use render.py, please enter the desired model_path located in your Drive: /content/drive/MyDrive/2d_gaussian_splatting/output/{10 digit UUID}: (e.g: /content/drive/MyDrive/2d_gaussian_splatting/output/8d812792-1)"
      ]
    },
    {
      "cell_type": "code",
      "execution_count": null,
      "metadata": {
        "id": "ujYuuq5GDiVo"
      },
      "outputs": [],
      "source": [
        "MODEL_PATH = str(input('Please enter the model path:'))"
      ]
    },
    {
      "cell_type": "code",
      "execution_count": null,
      "metadata": {
        "id": "Sn9uflTH5ut6"
      },
      "outputs": [],
      "source": [
        "!pip3 install open3d==0.18.0 mediapy==1.1.2 lpips==0.1.4 scikit-image==0.21.0 tqdm==4.66.2 trimesh==4.3.2 opencv-python"
      ]
    },
    {
      "cell_type": "code",
      "execution_count": null,
      "metadata": {
        "id": "T2inVQ3K49lS"
      },
      "outputs": [],
      "source": [
        "!python render.py -m $MODEL_PATH -s $COLMAP_PATH"
      ]
    },
    {
      "cell_type": "markdown",
      "metadata": {
        "id": "gIoYLJAhDiVp"
      },
      "source": [
        "Training and rendering is complete, please navigate to your drive and see the model outputs under the directory \"2d_gaussian_splatting/\"."
      ]
    }
  ],
  "metadata": {
    "colab": {
      "provenance": []
    },
    "kernelspec": {
      "display_name": "Python 3",
      "name": "python3"
    },
    "language_info": {
      "name": "python"
    }
  },
  "nbformat": 4,
  "nbformat_minor": 0
}